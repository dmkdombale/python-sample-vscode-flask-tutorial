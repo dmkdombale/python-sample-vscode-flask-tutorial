{
  "nbformat": 4,
  "nbformat_minor": 0,
  "metadata": {
    "colab": {
      "private_outputs": true,
      "provenance": [],
      "authorship_tag": "ABX9TyN/qlKwco0ODRFp9jm/4dIx",
      "include_colab_link": true
    },
    "kernelspec": {
      "name": "python3",
      "display_name": "Python 3"
    },
    "language_info": {
      "name": "python"
    }
  },
  "cells": [
    {
      "cell_type": "markdown",
      "metadata": {
        "id": "view-in-github",
        "colab_type": "text"
      },
      "source": [
        "<a href=\"https://colab.research.google.com/github/dmkdombale/python-sample-vscode-flask-tutorial/blob/main/problem.ipynb\" target=\"_parent\"><img src=\"https://colab.research.google.com/assets/colab-badge.svg\" alt=\"Open In Colab\"/></a>"
      ]
    },
    {
      "cell_type": "code",
      "execution_count": null,
      "metadata": {
        "id": "mc_uDHJ8Irli"
      },
      "outputs": [],
      "source": [
        "\n",
        "input_tuple = ('Monty Python', 'British', 1969)\n",
        "li=list(input_tuple)\n",
        "\n",
        "li.append(\"Python\")\n",
        "tuple_2=tuple(li)\n",
        "print(tuple_2)\n",
        "\n",
        "\n",
        ""
      ]
    },
    {
      "cell_type": "code",
      "source": [
        "Employee_data = { 101:['Shiva', 24, 'Content Strategist']\n",
        "                 ,102:['Udit',25,'Content Strategist'],\n",
        "                  103:['Sonam', 28,'Sr Manager'],\n",
        "                  104:['Ansari',29,'Product Lead' ],\n",
        "                  105:['Huzefa',32,'Project Manager' ]}\n",
        "\n",
        "print(Employee_data[104][2])\n",
        "\n"
      ],
      "metadata": {
        "id": "gMstjdCAL288"
      },
      "execution_count": null,
      "outputs": []
    },
    {
      "cell_type": "markdown",
      "source": [
        "Dict_Error\n",
        "Description\n",
        "From a Dictionary input_dict={'Name': 'Monty', 'Profession': 'Singer' }, get the value of a key ‘Label’ which is not a part of the dictionary, in such a way that Python doesn't hit an error. If the key does not exist in the dictionary, Python should return 'NA'.\n",
        "\n",
        "\n",
        "\n",
        "Sample Input:\n",
        "\n",
        "{'Name': 'Monty', 'Profession': 'Singer' }\n",
        "\n",
        "\n",
        "\n",
        "Sample Output:\n",
        "\n",
        "NA"
      ],
      "metadata": {
        "id": "6h_CuodfNgD1"
      }
    },
    {
      "cell_type": "code",
      "source": [
        "input_dict={'Name': 'Monty', 'Profession': 'Singer' }\n",
        "for  key, item in input_dict.items():\n",
        "    if 'Label' not in key:\n",
        "        answer='NA'\n",
        "    else:\n",
        "        key\n",
        "\n",
        "print(answer)"
      ],
      "metadata": {
        "id": "Wr0YThIyNHoz"
      },
      "execution_count": null,
      "outputs": []
    },
    {
      "cell_type": "code",
      "source": [
        "input_dict = {'Name': 'Monty', 'Profession': 'Singer'}\n",
        "output_value = input_dict.get('Label', 'NA')\n",
        "\n",
        "print(output_value)\n"
      ],
      "metadata": {
        "id": "tMDMZjzuNi-k"
      },
      "execution_count": null,
      "outputs": []
    },
    {
      "cell_type": "markdown",
      "source": [
        "List of Values in a Dictionary.\n",
        "Description\n",
        "Create a SORTED list of all values from the dictionary input_dict = {'Jack Dorsey' : 'Twitter' , 'Tim Cook' : 'Apple','Jeff Bezos' : 'Amazon' ,'Mukesh Ambani' : 'RJIO'}\n",
        "\n",
        "\n",
        "\n",
        "Sample Input:\n",
        "\n",
        "{'Jack Dorsey' : 'Twitter' , 'Tim Cook' : 'Apple','Jeff Bezos' : 'Amazon' ,'Mukesh Ambani' : 'RJIO'}\n",
        "\n",
        "\n",
        "\n",
        "Sample Output:\n",
        "\n",
        "﻿['Amazon', 'Apple', 'RJIO', 'Twitter']\n",
        "\n"
      ],
      "metadata": {
        "id": "qIeIbC1qOKTg"
      }
    },
    {
      "cell_type": "code",
      "source": [
        "input_dict = {'Jack Dorsey' : 'Twitter' , 'Tim Cook' : 'Apple','Jeff Bezos' : 'Amazon' ,'Mukesh Ambani' : 'RJIO'}\n",
        "\n",
        "li =sorted(list(input_dict.values()))\n",
        "print(li)\n",
        "\n"
      ],
      "metadata": {
        "id": "7OsLd7UAN8CI"
      },
      "execution_count": null,
      "outputs": []
    }
  ]
}